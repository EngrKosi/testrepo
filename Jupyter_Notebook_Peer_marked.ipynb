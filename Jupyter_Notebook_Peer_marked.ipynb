{
 "cells": [
  {
   "cell_type": "markdown",
   "metadata": {},
   "source": [
    "<center>\n",
    "    <img src=\"https://cf-courses-data.s3.us.cloud-object-storage.appdomain.cloud/IBMDeveloperSkillsNetwork-DS0105EN-SkillsNetwork/labs/Module2/images/SN_web_lightmode.png\" width=\"300\" alt=\"cognitiveclass.ai logo\"  />\n",
    "</center>\n"
   ]
  },
  {
   "cell_type": "markdown",
   "metadata": {},
   "source": [
    "#### Add your code below following the instructions given in the course\n"
   ]
  },
  {
   "cell_type": "markdown",
   "metadata": {},
   "source": [
    "# My Jupyter Notebook on IBM Watson Studio"
   ]
  },
  {
   "cell_type": "markdown",
   "metadata": {},
   "source": [
    "EME SUNDAY CHUKWURA\n",
    "DATA ANALYST"
   ]
  },
  {
   "cell_type": "markdown",
   "metadata": {},
   "source": [
    "*I am interested in data science because I want to utilize the data analytic skills I learn from the studies to solving mechanical engineering problems, and further design more sustainable products*"
   ]
  },
  {
   "cell_type": "markdown",
   "metadata": {},
   "source": [
    "### A code that assigns values to a variables and print out the concatenated value."
   ]
  },
  {
   "cell_type": "code",
   "execution_count": 16,
   "metadata": {},
   "outputs": [
    {
     "name": "stdout",
     "output_type": "stream",
     "text": [
      "Jonathan Brown\n",
      "21\n"
     ]
    }
   ],
   "source": [
    "F_name = \"Jonathan \"\n",
    "L_name = \"Brown\"\n",
    "Full_name = F_name + L_name\n",
    "age = 21;\n",
    "print(Full_name)\n",
    "print(age)\n",
    "\n"
   ]
  },
  {
   "cell_type": "markdown",
   "metadata": {},
   "source": [
    "Here are some programming languages that data scientists can use to execute their data science projects\n",
    "* python\n",
    "* R\n",
    "* SQL\n",
    "\n",
    "Data Scientist can use some tools like \n",
    "1. Watson Studio\n",
    "2. Jupyter Notebooks\n",
    "\n",
    "[A sample of Jupyter Notebook can be accessed through this link](https://nbviewer.org/github/agmarrugo/sensors-actuators/blob/master/notebooks/Ex6_4_evaluation_force_sensor.ipynb)\n",
    "\n",
    "~~This is an easy way to strike through when an error has been made on project and sp~~"
   ]
  },
  {
   "cell_type": "code",
   "execution_count": null,
   "metadata": {},
   "outputs": [],
   "source": [
    "\n"
   ]
  }
 ],
 "metadata": {
  "kernelspec": {
   "display_name": "Python",
   "language": "python",
   "name": "conda-env-python-py"
  },
  "language_info": {
   "codemirror_mode": {
    "name": "ipython",
    "version": 3
   },
   "file_extension": ".py",
   "mimetype": "text/x-python",
   "name": "python",
   "nbconvert_exporter": "python",
   "pygments_lexer": "ipython3",
   "version": "3.7.12"
  }
 },
 "nbformat": 4,
 "nbformat_minor": 4
}
